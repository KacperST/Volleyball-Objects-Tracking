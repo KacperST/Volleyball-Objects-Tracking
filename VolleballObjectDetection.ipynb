{
  "cells": [
    {
      "cell_type": "code",
      "execution_count": null,
      "metadata": {
        "id": "M7BOLb_C9xB2"
      },
      "outputs": [],
      "source": [
        "import locale\n",
        "def getpreferredencoding(do_setlocale = True):\n",
        "    return \"UTF-8\"\n",
        "locale.getpreferredencoding = getpreferredencoding\n",
        "\n",
        "%pip install ultralytics\n",
        "# %pip install super-gradients\n"
      ]
    },
    {
      "cell_type": "code",
      "execution_count": null,
      "metadata": {
        "id": "4YEUWrep9_eo"
      },
      "outputs": [],
      "source": [
        "from ultralytics import YOLO\n",
        "import os\n",
        "from google.colab import drive"
      ]
    },
    {
      "cell_type": "code",
      "execution_count": null,
      "metadata": {
        "id": "pu3pSqCN9x5j"
      },
      "outputs": [],
      "source": [
        "drive.mount(\"/content/gdrive\")"
      ]
    },
    {
      "cell_type": "code",
      "execution_count": null,
      "metadata": {
        "id": "3E2X9_E_-rxE"
      },
      "outputs": [],
      "source": [
        "model = YOLO('yolov8n.pt')\n"
      ]
    },
    {
      "cell_type": "code",
      "execution_count": null,
      "metadata": {
        "id": "SGRVktWkAvY7"
      },
      "outputs": [],
      "source": [
        "!pwd\n",
        "!ls\n",
        "\n"
      ]
    },
    {
      "cell_type": "code",
      "execution_count": null,
      "metadata": {
        "id": "AARPu-Ch_V8P"
      },
      "outputs": [],
      "source": [
        "results = model.train(data=\"/content/gdrive/MyDrive/datasets/volleyball_actions_dataset/config.yaml\", epochs=120)"
      ]
    },
    {
      "cell_type": "code",
      "source": [
        "metrics = model.val()\n",
        "print(metrics)"
      ],
      "metadata": {
        "id": "sdoCJo3RYJry"
      },
      "execution_count": null,
      "outputs": []
    }
  ],
  "metadata": {
    "accelerator": "GPU",
    "colab": {
      "provenance": []
    },
    "kernelspec": {
      "display_name": "Python 3",
      "name": "python3"
    },
    "language_info": {
      "name": "python"
    }
  },
  "nbformat": 4,
  "nbformat_minor": 0
}